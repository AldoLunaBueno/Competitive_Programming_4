{
 "cells": [
  {
   "cell_type": "code",
   "execution_count": 3,
   "metadata": {},
   "outputs": [
    {
     "name": "stdout",
     "output_type": "stream",
     "text": [
      "3.14\n",
      "3.1416\n",
      "3.14159\n",
      "3.141592653589793\n"
     ]
    }
   ],
   "source": [
    "# problem 2\n",
    "from math import pi\n",
    "\n",
    "def print_pi(n):\n",
    "    print(round(pi, n))\n",
    "\n",
    "print_pi(2)\n",
    "print_pi(4)\n",
    "print_pi(5)\n",
    "print_pi(15)"
   ]
  },
  {
   "cell_type": "code",
   "execution_count": 6,
   "metadata": {},
   "outputs": [
    {
     "name": "stdout",
     "output_type": "stream",
     "text": [
      "[16, 11, 18, 20, 15, 20, 21, 10, 5, 8, 13, 3, 18, 1, 10, 2, 2, 18, 2, 1]\n",
      "[1, 2, 3, 5, 8, 10, 11, 13, 15, 16, 18, 20, 21]\n"
     ]
    }
   ],
   "source": [
    "# problem 4\n",
    "\n",
    "# data preparation\n",
    "from random import randint\n",
    "rand_integers = [randint(0, 30) for _ in range(20)]\n",
    "print(rand_integers)\n",
    "\n",
    "# actual solution\n",
    "sorted_ints = sorted(list(set(rand_integers)))\n",
    "\n",
    "print(sorted_ints)"
   ]
  },
  {
   "cell_type": "code",
   "execution_count": 1,
   "metadata": {},
   "outputs": [
    {
     "name": "stdout",
     "output_type": "stream",
     "text": [
      "False\n"
     ]
    }
   ],
   "source": [
    "# problem 6\n",
    "\n",
    "from bisect import bisect_left\n",
    "\n",
    "# data preparation\n",
    "a = [1, 1, 2, 2, 2, 3, 5, 8, 10, 10, 11, 13, 15, 16, 18, 18, 18, 20, 20, 21]\n",
    "\n",
    "# solution\n",
    "\n",
    "n = 19\n",
    "i = bisect_left(a, n) # comparisons: log2(n), log2(1_000_000) < 20\n",
    "print(a[i] == n)"
   ]
  },
  {
   "cell_type": "code",
   "execution_count": null,
   "metadata": {},
   "outputs": [],
   "source": [
    "# problem 11\n",
    "\n",
    "from math import sqrt\n",
    "\n",
    "def is_prime(n):\n",
    "    sqrt_n = int(sqrt(n))\n",
    "    if n % 2 == 0 and n > 2:\n",
    "        return False\n",
    "    for d in range(3, sqrt_n, 2):\n",
    "        if n % d == 0:\n",
    "            return False\n",
    "    return True\n",
    "\n",
    "is_prime(48112959837082048697) # more than 5 minutes"
   ]
  },
  {
   "cell_type": "code",
   "execution_count": 68,
   "metadata": {},
   "outputs": [
    {
     "name": "stdout",
     "output_type": "stream",
     "text": [
      "True\n"
     ]
    }
   ],
   "source": [
    "# problem 11\n",
    "import random\n",
    "\n",
    "def is_prime_miller_rabin(n, k=5): \n",
    "    if n <= 1:\n",
    "        return False\n",
    "    if n <= 3:\n",
    "        return True\n",
    "    if n % 2 == 0:\n",
    "        return False\n",
    "    \n",
    "    def miller_test(d, n):\n",
    "        a = random.randint(2, n - 2)\n",
    "        x = pow(a, d, n)\n",
    "        if x == 1 or x == n - 1:\n",
    "            return True\n",
    "        while d != n - 1:\n",
    "            x = (x * x) % n\n",
    "            d *= 2\n",
    "            if x == 1:\n",
    "                return False\n",
    "            if x == n - 1:\n",
    "                return True\n",
    "        return False\n",
    "    \n",
    "    d = n - 1\n",
    "    while d % 2 == 0:\n",
    "        d //= 2\n",
    "    \n",
    "    for _ in range(k):\n",
    "        if not miller_test(d, n):\n",
    "            return False\n",
    "    return True\n",
    "\n",
    "print(is_prime_miller_rabin(48112959837082048697)) # 0.0 seconds!!!"
   ]
  }
 ],
 "metadata": {
  "kernelspec": {
   "display_name": "Python 3",
   "language": "python",
   "name": "python3"
  },
  "language_info": {
   "codemirror_mode": {
    "name": "ipython",
    "version": 3
   },
   "file_extension": ".py",
   "mimetype": "text/x-python",
   "name": "python",
   "nbconvert_exporter": "python",
   "pygments_lexer": "ipython3",
   "version": "3.9.5"
  }
 },
 "nbformat": 4,
 "nbformat_minor": 2
}
