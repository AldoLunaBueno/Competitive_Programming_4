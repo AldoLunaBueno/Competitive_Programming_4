{
 "cells": [
  {
   "cell_type": "code",
   "execution_count": 49,
   "metadata": {},
   "outputs": [
    {
     "name": "stdout",
     "output_type": "stream",
     "text": [
      "[2, 3, 0, 4, 1]\n"
     ]
    }
   ],
   "source": [
    "from typing import List\n",
    "def counting_sort(arr: List[int], l: int = None, r: int = None):\n",
    "    \"\"\"\n",
    "    Returns the indexes corresponding to the original array when it is sorted.\n",
    "    arr: list of integers\n",
    "    l, r: lower and upper bounds of the values of arr\n",
    "    \"\"\"\n",
    "    if l is None:\n",
    "        l = min(arr)\n",
    "    if r is None:\n",
    "        r = max(arr)\n",
    "\n",
    "    sorted_indexes = [0]*len(arr)\n",
    "    counter = [0]*(r-l+1)\n",
    "    for a in arr:\n",
    "        counter[a-l] += 1\n",
    "    for i in range(1, len(counter)):\n",
    "        counter[i] += counter[i-1]\n",
    "    for i in range(1, len(arr)):\n",
    "        i_counter = arr[-i] - l\n",
    "        i_arr = counter[i_counter] - 1\n",
    "        sorted_indexes[i_arr] = len(arr) - i\n",
    "        # prepare for next iteration\n",
    "        counter[i_counter] -= 1\n",
    "    return sorted_indexes\n",
    "    \n",
    "a = [3, 4, 1, 1, 3]\n",
    "print(counting_sort(a, 1, 4)) # [2, 3, 0, 4, 1]"
   ]
  },
  {
   "cell_type": "code",
   "execution_count": 53,
   "metadata": {},
   "outputs": [
    {
     "name": "stdout",
     "output_type": "stream",
     "text": [
      "['12', '012', '123', '1234', '1324', '1332', '1423', '2134']\n"
     ]
    }
   ],
   "source": [
    "\n",
    "def radix(arr: List[str], k: int = None):\n",
    "    \"\"\"\n",
    "    Returns the sorted array in its string form.\n",
    "    arr: list of integers in its string form\n",
    "    \"\"\"\n",
    "    if k is None:\n",
    "        k = len(max(arr, key = lambda a: len(a)))\n",
    "    indexes = range(len(arr))\n",
    "    for j in range(1, k+1):\n",
    "        # digits = [int(arr[i][-j]) if len(arr[i]) <= j else 0 \n",
    "        #           for i in indexes]\n",
    "        digits = [(int(arr[i][-j]) if len(arr[i]) >= j else 0) for i in indexes]\n",
    "        arr = [arr[i] for i in indexes]\n",
    "        indexes = counting_sort(digits, 0, 9)\n",
    "    return [arr[i] for i in indexes]\n",
    "    \n",
    "\n",
    "a = [\"1324\", \"1234\", \"2134\", \"1423\", \"1332\", \"123\", \"12\", \"012\"]\n",
    "print(radix(a))\n"
   ]
  },
  {
   "cell_type": "code",
   "execution_count": 54,
   "metadata": {},
   "outputs": [
    {
     "name": "stdout",
     "output_type": "stream",
     "text": [
      "[2, 3, 0, 4, 1]\n"
     ]
    }
   ],
   "source": [
    "from typing import List\n",
    "def counting_sort(arr: List[int], l: int = None, r: int = None):\n",
    "    \"\"\"\n",
    "    Returns the indexes corresponding to the original array when it is sorted.\n",
    "    arr: list of integers\n",
    "    l, r: lower and upper bounds of the values of arr\n",
    "    \"\"\"\n",
    "    if l is None:\n",
    "        l = min(arr)\n",
    "    if r is None:\n",
    "        r = max(arr)\n",
    "\n",
    "    sorted_indexes = [0]*len(arr)\n",
    "    counter = [0]*(r-l+1)\n",
    "    for a in arr:\n",
    "        counter[a-l] += 1\n",
    "    for i in range(1, len(counter)):\n",
    "        counter[i] += counter[i-1]\n",
    "    for i in range(1, len(arr)):\n",
    "        i_counter = arr[-i] - l\n",
    "        i_arr = counter[i_counter] - 1\n",
    "        sorted_indexes[i_arr] = len(arr) - i\n",
    "        # prepare for next iteration\n",
    "        counter[i_counter] -= 1\n",
    "    return sorted_indexes\n",
    "    \n",
    "a = [3, 4, 1, 1, 3]\n",
    "print(counting_sort(a, 1, 4)) # [2, 3, 0, 4, 1]"
   ]
  },
  {
   "cell_type": "code",
   "execution_count": 56,
   "metadata": {},
   "outputs": [
    {
     "name": "stdout",
     "output_type": "stream",
     "text": [
      "[7, 8, 3, 4, 11, 0, 7]\n"
     ]
    }
   ],
   "source": [
    "n = 7\n",
    "a, b, c = 7, 7, 12\n",
    "\n",
    "s = [a]\n",
    "for i in range(1, n):\n",
    "    s_i = (s[i-1] * b + a) % c\n",
    "    s.append(s_i)\n",
    "print(s)"
   ]
  }
 ],
 "metadata": {
  "kernelspec": {
   "display_name": "Python 3",
   "language": "python",
   "name": "python3"
  },
  "language_info": {
   "codemirror_mode": {
    "name": "ipython",
    "version": 3
   },
   "file_extension": ".py",
   "mimetype": "text/x-python",
   "name": "python",
   "nbconvert_exporter": "python",
   "pygments_lexer": "ipython3",
   "version": "3.9.5"
  }
 },
 "nbformat": 4,
 "nbformat_minor": 2
}
